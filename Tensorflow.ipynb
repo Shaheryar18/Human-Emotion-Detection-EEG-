{
 "cells": [
  {
   "cell_type": "code",
   "execution_count": 1,
   "id": "6200553a-a407-4276-926b-639b85339232",
   "metadata": {
    "scrolled": true
   },
   "outputs": [
    {
     "name": "stdout",
     "output_type": "stream",
     "text": [
      "Is TensorFlow built with GPU support?:  True\n",
      "GPUs available:  [PhysicalDevice(name='/physical_device:GPU:0', device_type='GPU')]\n"
     ]
    }
   ],
   "source": [
    "import tensorflow as tf\n",
    "\n",
    "# Check if TensorFlow is built with GPU support\n",
    "print(\"Is TensorFlow built with GPU support?: \", tf.test.is_built_with_cuda())\n",
    "\n",
    "# List available GPUs\n",
    "gpus = tf.config.list_physical_devices('GPU')\n",
    "print(\"GPUs available: \", gpus)"
   ]
  },
  {
   "cell_type": "code",
   "execution_count": 5,
   "id": "cdaeb1e0-bc91-4125-96a1-2b2eedf15e14",
   "metadata": {},
   "outputs": [
    {
     "name": "stdout",
     "output_type": "stream",
     "text": [
      "Is TensorFlow built with GPU support?:  False\n",
      "GPUs available:  []\n"
     ]
    }
   ],
   "source": [
    "import tensorflow as tf\n",
    "\n",
    "gpus = tf.config.list_physical_devices('GPU')\n",
    "for gpu in gpus:\n",
    "    tf.config.experimental.set_memory_growth(gpu, True)\n",
    "\n",
    "print(\"Is TensorFlow built with GPU support?: \", tf.test.is_built_with_cuda())\n",
    "\n",
    "# List available GPUs\n",
    "gpus = tf.config.list_physical_devices('GPU')\n",
    "print(\"GPUs available: \", gpus)\n"
   ]
  },
  {
   "cell_type": "code",
   "execution_count": 7,
   "id": "b73d6248-6c6f-425d-ba71-6154069508f1",
   "metadata": {},
   "outputs": [
    {
     "name": "stdout",
     "output_type": "stream",
     "text": [
      "Is TensorFlow built with GPU support?:  False\n",
      "GPUs available:  []\n",
      "No GPUs available to test.\n"
     ]
    }
   ],
   "source": [
    "import tensorflow as tf\n",
    "\n",
    "# Check if TensorFlow is built with GPU support\n",
    "print(\"Is TensorFlow built with GPU support?: \", tf.test.is_built_with_cuda())\n",
    "\n",
    "# List available GPUs\n",
    "gpus = tf.config.list_physical_devices('GPU')\n",
    "print(\"GPUs available: \", gpus)\n",
    "\n",
    "# Test GPU utilization\n",
    "if gpus:\n",
    "    # Create a simple TensorFlow session\n",
    "    with tf.device('/GPU:0'):\n",
    "        a = tf.constant([1.0, 2.0, 3.0, 4.0, 5.0, 6.0], shape=[2, 3])\n",
    "        b = tf.constant([1.0, 2.0, 3.0, 4.0, 5.0, 6.0], shape=[3, 2])\n",
    "        c = tf.matmul(a, b)\n",
    "\n",
    "    # Print the result\n",
    "    print(\"Result of matrix multiplication on GPU:\")\n",
    "    print(c)\n",
    "else:\n",
    "    print(\"No GPUs available to test.\")\n",
    "\n"
   ]
  },
  {
   "cell_type": "code",
   "execution_count": 10,
   "id": "832aa75c-3c45-404d-b344-e0789f03c45a",
   "metadata": {},
   "outputs": [
    {
     "name": "stdout",
     "output_type": "stream",
     "text": [
      "1.23.5\n",
      "2.3.0\n"
     ]
    }
   ],
   "source": [
    "import numpy\n",
    "import tensorflow as tf\n",
    "\n",
    "print(numpy.__version__)\n",
    "print(tf.__version__)"
   ]
  },
  {
   "cell_type": "code",
   "execution_count": 6,
   "id": "f5ad52e4-b697-4613-a384-12d089328b3b",
   "metadata": {},
   "outputs": [
    {
     "name": "stdout",
     "output_type": "stream",
     "text": [
      "NumPy version: 2.0.0\n"
     ]
    }
   ],
   "source": [
    "import numpy as np\n",
    "#import scipy\n",
    "#import tensorflow as tf\n",
    "\n",
    "print(\"NumPy version:\", np.__version__)\n",
    "#print(\"SciPy version:\", scipy.__version__)\n",
    "#print(\"TensorFlow version:\", tf.__version__)"
   ]
  },
  {
   "cell_type": "code",
   "execution_count": null,
   "id": "ca14d121-62a9-4cdf-80fe-9fe3e68a41b0",
   "metadata": {},
   "outputs": [],
   "source": []
  }
 ],
 "metadata": {
  "kernelspec": {
   "display_name": "tf-gpu-env",
   "language": "python",
   "name": "tf-gpu-env"
  },
  "language_info": {
   "codemirror_mode": {
    "name": "ipython",
    "version": 3
   },
   "file_extension": ".py",
   "mimetype": "text/x-python",
   "name": "python",
   "nbconvert_exporter": "python",
   "pygments_lexer": "ipython3",
   "version": "3.9.19"
  }
 },
 "nbformat": 4,
 "nbformat_minor": 5
}
